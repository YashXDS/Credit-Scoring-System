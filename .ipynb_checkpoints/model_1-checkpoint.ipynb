{
 "cells": [
  {
   "cell_type": "markdown",
   "id": "0eb7bb13-f488-4796-b809-b073f90d65a1",
   "metadata": {},
   "source": [
    "# Capstone Project : Credit Scoring System"
   ]
  },
  {
   "cell_type": "markdown",
   "id": "4098483b-efde-4540-ab69-fb4b9f2687c7",
   "metadata": {},
   "source": [
    "<p>This project created for checking defaults on the credit basis on the past credit data of an individuals.</p>"
   ]
  },
  {
   "cell_type": "code",
   "execution_count": 3,
   "id": "0354e55e-8e9e-4b3f-bad1-f0c9ae062dff",
   "metadata": {},
   "outputs": [],
   "source": [
    "# import necessary libraries \n",
    "import pandas as pd\n",
    "import numpy as np\n",
    "import matplotlib.pyplot as plt\n",
    "import seaborn as sns\n",
    "from sklearn.preprocessing import OneHotEncoder, LabelEncoder, StandardScaler\n",
    "from sklearn.model_selection import train_test_split\n",
    "from sklearn.svm import SVC\n",
    "from sklearn.linear_model import LogisticRegression\n",
    "from sklearn.ensemble import RandomForestClassifier\n",
    "from sklearn.metrics import classification_report, accuracy_score\n",
    "import xgboost as xgb\n",
    "from keras.models import Sequential\n",
    "from keras.layers import Dense\n",
    "import joblib"
   ]
  },
  {
   "cell_type": "code",
   "execution_count": 4,
   "id": "116f05c7-c294-4e49-b523-99058c87dd65",
   "metadata": {},
   "outputs": [
    {
     "data": {
      "text/html": [
       "<div>\n",
       "<style scoped>\n",
       "    .dataframe tbody tr th:only-of-type {\n",
       "        vertical-align: middle;\n",
       "    }\n",
       "\n",
       "    .dataframe tbody tr th {\n",
       "        vertical-align: top;\n",
       "    }\n",
       "\n",
       "    .dataframe thead th {\n",
       "        text-align: right;\n",
       "    }\n",
       "</style>\n",
       "<table border=\"1\" class=\"dataframe\">\n",
       "  <thead>\n",
       "    <tr style=\"text-align: right;\">\n",
       "      <th></th>\n",
       "      <th>person_age</th>\n",
       "      <th>person_income</th>\n",
       "      <th>person_home_ownership</th>\n",
       "      <th>person_emp_length</th>\n",
       "      <th>loan_intent</th>\n",
       "      <th>loan_grade</th>\n",
       "      <th>loan_amnt</th>\n",
       "      <th>loan_int_rate</th>\n",
       "      <th>loan_status</th>\n",
       "      <th>loan_percent_income</th>\n",
       "      <th>cb_person_default_on_file</th>\n",
       "      <th>cb_person_cred_hist_length</th>\n",
       "    </tr>\n",
       "  </thead>\n",
       "  <tbody>\n",
       "    <tr>\n",
       "      <th>0</th>\n",
       "      <td>22</td>\n",
       "      <td>59000</td>\n",
       "      <td>RENT</td>\n",
       "      <td>123.0</td>\n",
       "      <td>PERSONAL</td>\n",
       "      <td>D</td>\n",
       "      <td>35000</td>\n",
       "      <td>16.02</td>\n",
       "      <td>1</td>\n",
       "      <td>0.59</td>\n",
       "      <td>Y</td>\n",
       "      <td>3</td>\n",
       "    </tr>\n",
       "    <tr>\n",
       "      <th>1</th>\n",
       "      <td>21</td>\n",
       "      <td>9600</td>\n",
       "      <td>OWN</td>\n",
       "      <td>5.0</td>\n",
       "      <td>EDUCATION</td>\n",
       "      <td>B</td>\n",
       "      <td>1000</td>\n",
       "      <td>11.14</td>\n",
       "      <td>0</td>\n",
       "      <td>0.10</td>\n",
       "      <td>N</td>\n",
       "      <td>2</td>\n",
       "    </tr>\n",
       "    <tr>\n",
       "      <th>2</th>\n",
       "      <td>25</td>\n",
       "      <td>9600</td>\n",
       "      <td>MORTGAGE</td>\n",
       "      <td>1.0</td>\n",
       "      <td>MEDICAL</td>\n",
       "      <td>C</td>\n",
       "      <td>5500</td>\n",
       "      <td>12.87</td>\n",
       "      <td>1</td>\n",
       "      <td>0.57</td>\n",
       "      <td>N</td>\n",
       "      <td>3</td>\n",
       "    </tr>\n",
       "    <tr>\n",
       "      <th>3</th>\n",
       "      <td>23</td>\n",
       "      <td>65500</td>\n",
       "      <td>RENT</td>\n",
       "      <td>4.0</td>\n",
       "      <td>MEDICAL</td>\n",
       "      <td>C</td>\n",
       "      <td>35000</td>\n",
       "      <td>15.23</td>\n",
       "      <td>1</td>\n",
       "      <td>0.53</td>\n",
       "      <td>N</td>\n",
       "      <td>2</td>\n",
       "    </tr>\n",
       "    <tr>\n",
       "      <th>4</th>\n",
       "      <td>24</td>\n",
       "      <td>54400</td>\n",
       "      <td>RENT</td>\n",
       "      <td>8.0</td>\n",
       "      <td>MEDICAL</td>\n",
       "      <td>C</td>\n",
       "      <td>35000</td>\n",
       "      <td>14.27</td>\n",
       "      <td>1</td>\n",
       "      <td>0.55</td>\n",
       "      <td>Y</td>\n",
       "      <td>4</td>\n",
       "    </tr>\n",
       "  </tbody>\n",
       "</table>\n",
       "</div>"
      ],
      "text/plain": [
       "   person_age  person_income person_home_ownership  person_emp_length  \\\n",
       "0          22          59000                  RENT              123.0   \n",
       "1          21           9600                   OWN                5.0   \n",
       "2          25           9600              MORTGAGE                1.0   \n",
       "3          23          65500                  RENT                4.0   \n",
       "4          24          54400                  RENT                8.0   \n",
       "\n",
       "  loan_intent loan_grade  loan_amnt  loan_int_rate  loan_status  \\\n",
       "0    PERSONAL          D      35000          16.02            1   \n",
       "1   EDUCATION          B       1000          11.14            0   \n",
       "2     MEDICAL          C       5500          12.87            1   \n",
       "3     MEDICAL          C      35000          15.23            1   \n",
       "4     MEDICAL          C      35000          14.27            1   \n",
       "\n",
       "   loan_percent_income cb_person_default_on_file  cb_person_cred_hist_length  \n",
       "0                 0.59                         Y                           3  \n",
       "1                 0.10                         N                           2  \n",
       "2                 0.57                         N                           3  \n",
       "3                 0.53                         N                           2  \n",
       "4                 0.55                         Y                           4  "
      ]
     },
     "execution_count": 4,
     "metadata": {},
     "output_type": "execute_result"
    }
   ],
   "source": [
    "# load data into dataframe\n",
    "df = pd.read_csv('credit_risk_dataset.csv')\n",
    "df.head(5)                                       # showing first five rows of dataframe"
   ]
  },
  {
   "cell_type": "markdown",
   "id": "dee6fc18-1553-40d4-b008-387be29599b1",
   "metadata": {},
   "source": [
    "## Data Preprocessing"
   ]
  },
  {
   "cell_type": "markdown",
   "id": "bc5d446a-f9c6-4a36-8416-0d175868871e",
   "metadata": {},
   "source": [
    "### 1. Data information"
   ]
  },
  {
   "cell_type": "code",
   "execution_count": 6,
   "id": "6f1ace04-655d-416e-85fc-0a15d0e59994",
   "metadata": {},
   "outputs": [
    {
     "name": "stdout",
     "output_type": "stream",
     "text": [
      "<class 'pandas.core.frame.DataFrame'>\n",
      "RangeIndex: 32581 entries, 0 to 32580\n",
      "Data columns (total 12 columns):\n",
      " #   Column                      Non-Null Count  Dtype  \n",
      "---  ------                      --------------  -----  \n",
      " 0   person_age                  32581 non-null  int64  \n",
      " 1   person_income               32581 non-null  int64  \n",
      " 2   person_home_ownership       32581 non-null  object \n",
      " 3   person_emp_length           31686 non-null  float64\n",
      " 4   loan_intent                 32581 non-null  object \n",
      " 5   loan_grade                  32581 non-null  object \n",
      " 6   loan_amnt                   32581 non-null  int64  \n",
      " 7   loan_int_rate               29465 non-null  float64\n",
      " 8   loan_status                 32581 non-null  int64  \n",
      " 9   loan_percent_income         32581 non-null  float64\n",
      " 10  cb_person_default_on_file   32581 non-null  object \n",
      " 11  cb_person_cred_hist_length  32581 non-null  int64  \n",
      "dtypes: float64(3), int64(5), object(4)\n",
      "memory usage: 3.0+ MB\n"
     ]
    }
   ],
   "source": [
    "df.info()"
   ]
  },
  {
   "cell_type": "markdown",
   "id": "7d5423f9-c455-4b7e-80c6-68cd768b57be",
   "metadata": {},
   "source": [
    "### 2. Checking for missing value"
   ]
  },
  {
   "cell_type": "code",
   "execution_count": null,
   "id": "d7e5528f-d34d-44d0-9d41-a49a1bcb2710",
   "metadata": {},
   "outputs": [],
   "source": [
    "df.isnull().sum()"
   ]
  },
  {
   "cell_type": "markdown",
   "id": "257181db-74e6-4731-aafe-6fe6656f8287",
   "metadata": {},
   "source": [
    "### 3. Handling missing value"
   ]
  },
  {
   "cell_type": "code",
   "execution_count": null,
   "id": "5707a6df-1319-4a62-9f0f-7ff3d2ccd53e",
   "metadata": {},
   "outputs": [],
   "source": [
    "df['person_emp_length'].fillna(df['person_emp_length'].median(), inplace = True)"
   ]
  },
  {
   "cell_type": "code",
   "execution_count": null,
   "id": "e0520873-7329-46e2-b314-0a7ed2ecabd4",
   "metadata": {},
   "outputs": [],
   "source": [
    "df['loan_int_rate'].fillna(df['loan_int_rate'].median(), inplace = True)"
   ]
  },
  {
   "cell_type": "code",
   "execution_count": null,
   "id": "c922da8e-5daf-4203-8853-52f4a7eb715d",
   "metadata": {},
   "outputs": [],
   "source": [
    "df.isnull().sum()"
   ]
  },
  {
   "cell_type": "markdown",
   "id": "03fa833b-b664-4275-8e90-42e7b697ab59",
   "metadata": {},
   "source": [
    "### 4. Find Duplicated rows and remove it"
   ]
  },
  {
   "cell_type": "code",
   "execution_count": null,
   "id": "dccb8e80-0faa-440e-8edc-c03f903ce057",
   "metadata": {},
   "outputs": [],
   "source": [
    "duplicates = df[df.duplicated(keep=False)]  # keep=False to show all duplicates\n",
    "print(\"Duplicated Rows:\\n\", duplicates)"
   ]
  },
  {
   "cell_type": "code",
   "execution_count": null,
   "id": "2f2e48fa-da44-41be-9b18-bcb056a95a22",
   "metadata": {},
   "outputs": [],
   "source": [
    "df.drop_duplicates(inplace = True)\n",
    "df.info()"
   ]
  },
  {
   "cell_type": "markdown",
   "id": "543bbb81-546d-4065-9eda-bddac863dd82",
   "metadata": {},
   "source": [
    "### 5. Renaming the column names"
   ]
  },
  {
   "cell_type": "code",
   "execution_count": null,
   "id": "ba93360a-cb17-47e1-a64a-6896c200653d",
   "metadata": {},
   "outputs": [],
   "source": [
    "column_mapping = {\n",
    "                      \"person_age\": \"age\",\n",
    "                      \"person_income\": \"income\",\n",
    "                      \"person_home_ownership\": \"home_ownership\",\n",
    "                      \"person_emp_length\": \"emp_years\",\n",
    "                      \"loan_intent\": \"loan_purpose\",\n",
    "                      \"loan_grade\": \"grade\",\n",
    "                      \"loan_amnt\": \"loan_amount\",\n",
    "                      \"loan_int_rate\": \"interest_rate\",\n",
    "                      \"loan_status\": \"status\",\n",
    "                      \"loan_percent_income\": \"percent_income\",\n",
    "                      \"cb_person_default_on_file\": \"default_history\",\n",
    "                      \"cb_person_cred_hist_length\": \"credit_history\"\n",
    "                 }\n",
    "\n",
    "df.rename(columns = column_mapping, inplace = True)\n",
    "df.to_csv(\"cleaned_updated_data.csv\", index = False)     # Saving data in another csv file"
   ]
  },
  {
   "cell_type": "markdown",
   "id": "39285ccc-5ba4-49f3-93fe-167a238de4e1",
   "metadata": {},
   "source": [
    "### 6. Visualizing columns for find outliers"
   ]
  },
  {
   "cell_type": "code",
   "execution_count": null,
   "id": "ba5ea861-4814-4c3c-9c95-6e4c63d2a370",
   "metadata": {},
   "outputs": [],
   "source": [
    "df = pd.read_csv('cleaned_updated_data.csv')\n",
    "\n",
    "# Function to visualize box plots in 3 columns per row\n",
    "def visualize_boxplots(df):\n",
    "    numerical_cols = df.select_dtypes(include=['float64', 'int64']).columns\n",
    "    n_cols = len(numerical_cols)\n",
    "    \n",
    "    for i in range(0, n_cols, 3):  # Loop through 3 columns at a time\n",
    "        cols_to_plot = numerical_cols[i:i+3]\n",
    "        \n",
    "        # Create a row of subplots with up to 3 box plots per row\n",
    "        fig, axs = plt.subplots(1, len(cols_to_plot), figsize=(18, 6))\n",
    "\n",
    "        for j, col in enumerate(cols_to_plot):\n",
    "            sns.boxplot(x=df[col], ax=axs[j], color='lightblue')\n",
    "            axs[j].set_title(f'Box Plot of {col}')\n",
    "        \n",
    "        # Adjust layout for better visualization\n",
    "        plt.tight_layout()\n",
    "        plt.show()\n",
    "\n",
    "visualize_boxplots(df)"
   ]
  },
  {
   "cell_type": "markdown",
   "id": "9f751fa4-09d3-486f-b18d-4637cf182f96",
   "metadata": {},
   "source": [
    "### 7. Handling Outliers "
   ]
  },
  {
   "cell_type": "code",
   "execution_count": null,
   "id": "9b798d0b-6dd3-4511-b0c5-ad7ad239e8e2",
   "metadata": {},
   "outputs": [],
   "source": [
    "# Function to remove outliers using IQR method for multiple columns\n",
    "def remove_outliers_iqr(df, columns):\n",
    "    for col in columns:\n",
    "        Q1 = df[col].quantile(0.25)\n",
    "        Q3 = df[col].quantile(0.75)\n",
    "        IQR = Q3 - Q1\n",
    "        lower_bound = Q1 - 1.5 * IQR\n",
    "        upper_bound = Q3 + 1.5 * IQR\n",
    "        \n",
    "        # Filter out the outliers\n",
    "        df = df[(df[col] >= lower_bound) & (df[col] <= upper_bound)]\n",
    "    \n",
    "    return df\n",
    "\n",
    "# List of columns with outliers you want to handle\n",
    "columns_to_handle = ['age', 'income', 'emp_years', 'loan_amount', 'interest_rate', 'percent_income', 'credit_history'] \n",
    "\n",
    "df_cleaned = remove_outliers_iqr(df, columns_to_handle)\n",
    "\n",
    "# Check the result\n",
    "print(df_cleaned)\n"
   ]
  },
  {
   "cell_type": "code",
   "execution_count": null,
   "id": "a1a0bcb3-826e-4b8c-bdc5-6f37084ea421",
   "metadata": {},
   "outputs": [],
   "source": [
    "visualize_boxplots(df_cleaned)"
   ]
  },
  {
   "cell_type": "code",
   "execution_count": 19,
   "id": "4ff5fb41-7d11-4b9b-ad73-2a532d29191d",
   "metadata": {},
   "outputs": [],
   "source": [
    "df_cleaned.to_csv(\"Final Dataset.csv\", index = False)\n",
    "df = pd.read_csv(\"Final Dataset.csv\")"
   ]
  },
  {
   "cell_type": "markdown",
   "id": "c3106e0f-631a-4b9f-8c06-e12c3f9375ee",
   "metadata": {},
   "source": [
    "### 8. Transform Categorical features"
   ]
  },
  {
   "cell_type": "code",
   "execution_count": 27,
   "id": "78aef2d3-34b0-45ee-b2e8-fd8cf6618d90",
   "metadata": {},
   "outputs": [],
   "source": [
    "# Define the OneHotEncode\n",
    "onehot_encoder = OneHotEncoder(drop='first', sparse_output=False)  # drop='first' to avoid dummy variable trap\n",
    "\n",
    "# Selecting columns to encode\n",
    "categorical_columns = ['home_ownership', 'loan_purpose', 'default_history']\n",
    "\n",
    "# Fit and transform the categorical columns\n",
    "encoded_columns = onehot_encoder.fit_transform(df[categorical_columns])\n",
    "\n",
    "# Convert the encoded columns into a DataFrame\n",
    "encoded_df = pd.DataFrame(encoded_columns, columns=onehot_encoder.get_feature_names_out(categorical_columns))\n",
    "\n",
    "# Drop the original categorical columns and concatenate the new encoded columns\n",
    "df_encoded = df.drop(columns=categorical_columns)\n",
    "df_encoded = pd.concat([df_encoded, encoded_df], axis=1)\n"
   ]
  },
  {
   "cell_type": "code",
   "execution_count": 28,
   "id": "f8ba8a52-572f-4440-94bb-15d527a73bc9",
   "metadata": {},
   "outputs": [],
   "source": [
    "# Label Encoding for 'grade'\n",
    "label_encoder = LabelEncoder()\n",
    "df_encoded['grade'] = label_encoder.fit_transform(df['grade'])"
   ]
  },
  {
   "cell_type": "code",
   "execution_count": null,
   "id": "c385a887-5566-4bf4-9dfd-34a491058efa",
   "metadata": {},
   "outputs": [],
   "source": [
    "# Check the final encoded DataFrame\n",
    "print(df_encoded.head())\n",
    "df_encoded.to_csv(\"final.csv\", index = False)"
   ]
  },
  {
   "cell_type": "code",
   "execution_count": null,
   "id": "5fb232b0-f577-46f7-8cca-6d1cee1c6b31",
   "metadata": {},
   "outputs": [],
   "source": [
    "df = pd.read_csv(\"final.csv\")\n",
    "df.head()"
   ]
  },
  {
   "cell_type": "code",
   "execution_count": null,
   "id": "3a2a3068-5ec2-4b40-b7ff-e4ec04bcbb2c",
   "metadata": {},
   "outputs": [],
   "source": [
    "df.tail()"
   ]
  },
  {
   "cell_type": "markdown",
   "id": "0a65c7ca-769a-4776-a1bd-ea1501adf6c4",
   "metadata": {},
   "source": [
    "## Feature Engineering"
   ]
  },
  {
   "cell_type": "markdown",
   "id": "5b091645-8430-4ead-b5e3-7f3f0af0ace2",
   "metadata": {},
   "source": [
    "### 1. Create new features"
   ]
  },
  {
   "cell_type": "code",
   "execution_count": 57,
   "id": "3c9585eb-0cbc-451e-b67c-ceeb424f90a9",
   "metadata": {},
   "outputs": [],
   "source": [
    "# Create the age-to-income and loan-to-income ratios\n",
    "df['age_income_ratio'] = df['age'] / df['income']\n",
    "df['loan_income_ratio'] = df['loan_amount'] / df['income']\n",
    "df.to_csv(\"original_data.csv\", index = False)"
   ]
  },
  {
   "cell_type": "markdown",
   "id": "168f376f-6676-4b8f-86f1-ad62ce748146",
   "metadata": {},
   "source": [
    "### 2. Feature scaling and normalization"
   ]
  },
  {
   "cell_type": "code",
   "execution_count": null,
   "id": "c6411c73-f5ec-46d0-a9a4-c32ead603cdc",
   "metadata": {},
   "outputs": [],
   "source": [
    "# Define features and target variable\n",
    "X = df[['age', 'income', 'emp_years', 'grade', 'loan_amount', 'interest_rate',\n",
    "                 'percent_income', 'credit_history', 'home_ownership_OTHER',\n",
    "                 'home_ownership_OWN', 'home_ownership_RENT', 'loan_purpose_EDUCATION',\n",
    "                 'loan_purpose_HOMEIMPROVEMENT', 'loan_purpose_MEDICAL',\n",
    "                 'loan_purpose_PERSONAL', 'loan_purpose_VENTURE', 'default_history_Y',\n",
    "                 'age_income_ratio', 'loan_income_ratio']]\n",
    "y = df['status']  # 'status' is target variable\n",
    "\n",
    "# Train-Test Split\n",
    "X_train, X_test, y_train, y_test = train_test_split(X, y, test_size=0.2, random_state=42)\n",
    "\n",
    "# Scaling\n",
    "scaler = StandardScaler()  # For Z-score normalization\n",
    "X_train_scaled = scaler.fit_transform(X_train)\n",
    "X_test_scaled = scaler.transform(X_test)\n",
    "\n",
    "# Convert back to DataFrame for better readability\n",
    "X_train_scaled = pd.DataFrame(X_train_scaled, columns=X.columns)\n",
    "X_test_scaled = pd.DataFrame(X_test_scaled, columns=X.columns)\n",
    "\n",
    "# Check the scaled data\n",
    "print(X_train_scaled.head())\n",
    "print(X_test_scaled.head())\n"
   ]
  },
  {
   "cell_type": "markdown",
   "id": "e97bb9a7-597c-4788-804b-c08e476c8362",
   "metadata": {},
   "source": [
    "## Model Development, Training & Evaluation"
   ]
  },
  {
   "cell_type": "code",
   "execution_count": 46,
   "id": "a11cf9ac-6553-4314-8e99-b15eb9d04824",
   "metadata": {},
   "outputs": [
    {
     "name": "stdout",
     "output_type": "stream",
     "text": [
      "SVC Results:\n",
      "Accuracy: 0.8604382929642446\n",
      "              precision    recall  f1-score   support\n",
      "\n",
      "           0       0.88      0.96      0.92      4173\n",
      "           1       0.73      0.47      0.57      1029\n",
      "\n",
      "    accuracy                           0.86      5202\n",
      "   macro avg       0.80      0.71      0.74      5202\n",
      "weighted avg       0.85      0.86      0.85      5202\n",
      "\n",
      "LogisticRegression Results:\n",
      "Accuracy: 0.858323721645521\n",
      "              precision    recall  f1-score   support\n",
      "\n",
      "           0       0.88      0.95      0.91      4173\n",
      "           1       0.70      0.50      0.58      1029\n",
      "\n",
      "    accuracy                           0.86      5202\n",
      "   macro avg       0.79      0.72      0.75      5202\n",
      "weighted avg       0.85      0.86      0.85      5202\n",
      "\n",
      "RandomForestClassifier Results:\n",
      "Accuracy: 0.9300269127258747\n",
      "              precision    recall  f1-score   support\n",
      "\n",
      "           0       0.93      0.99      0.96      4173\n",
      "           1       0.95      0.68      0.79      1029\n",
      "\n",
      "    accuracy                           0.93      5202\n",
      "   macro avg       0.94      0.84      0.88      5202\n",
      "weighted avg       0.93      0.93      0.93      5202\n",
      "\n",
      "XGBClassifier Results:\n",
      "Accuracy: 0.9279123414071511\n",
      "              precision    recall  f1-score   support\n",
      "\n",
      "           0       0.93      0.99      0.96      4173\n",
      "           1       0.93      0.68      0.79      1029\n",
      "\n",
      "    accuracy                           0.93      5202\n",
      "   macro avg       0.93      0.84      0.87      5202\n",
      "weighted avg       0.93      0.93      0.92      5202\n",
      "\n"
     ]
    },
    {
     "name": "stderr",
     "output_type": "stream",
     "text": [
      "C:\\Users\\yapat\\AppData\\Local\\Programs\\Python\\Python312\\Lib\\site-packages\\keras\\src\\layers\\core\\dense.py:87: UserWarning: Do not pass an `input_shape`/`input_dim` argument to a layer. When using Sequential models, prefer using an `Input(shape)` object as the first layer in the model instead.\n",
      "  super().__init__(activity_regularizer=activity_regularizer, **kwargs)\n"
     ]
    },
    {
     "name": "stdout",
     "output_type": "stream",
     "text": [
      "\u001b[1m163/163\u001b[0m \u001b[32m━━━━━━━━━━━━━━━━━━━━\u001b[0m\u001b[37m\u001b[0m \u001b[1m0s\u001b[0m 2ms/step\n",
      "Neural Network Results:\n",
      "Accuracy: 0.9184928873510189\n",
      "              precision    recall  f1-score   support\n",
      "\n",
      "           0       0.92      0.98      0.95      4173\n",
      "           1       0.91      0.66      0.76      1029\n",
      "\n",
      "    accuracy                           0.92      5202\n",
      "   macro avg       0.91      0.82      0.86      5202\n",
      "weighted avg       0.92      0.92      0.91      5202\n",
      "\n"
     ]
    }
   ],
   "source": [
    "# Initialize the models\n",
    "svm_model = SVC(kernel='linear', random_state=42)\n",
    "logistic_model = LogisticRegression(random_state=42)\n",
    "random_forest_model = RandomForestClassifier(random_state=42)\n",
    "xgboost_model = xgb.XGBClassifier(random_state=42)\n",
    "\n",
    "# Define a function to train and evaluate models\n",
    "def train_and_evaluate(model, X_train, X_test, y_train, y_test):\n",
    "    # Train the model\n",
    "    model.fit(X_train, y_train)\n",
    "    # Make predictions\n",
    "    y_pred = model.predict(X_test)\n",
    "    # Evaluate the model\n",
    "    print(f\"{model.__class__.__name__} Results:\")\n",
    "    print(\"Accuracy:\", accuracy_score(y_test, y_pred))\n",
    "    print(classification_report(y_test, y_pred))\n",
    "\n",
    "# Train and evaluate each model\n",
    "train_and_evaluate(svm_model, X_train_scaled, X_test_scaled, y_train, y_test)\n",
    "train_and_evaluate(logistic_model, X_train_scaled, X_test_scaled, y_train, y_test)\n",
    "train_and_evaluate(random_forest_model, X_train_scaled, X_test_scaled, y_train, y_test)\n",
    "train_and_evaluate(xgboost_model, X_train_scaled, X_test_scaled, y_train, y_test)\n",
    "\n",
    "#  Build and train a Neural Network\n",
    "def build_neural_network(input_dim):\n",
    "    model = Sequential()\n",
    "    model.add(Dense(64, input_dim=input_dim, activation='relu'))  # First hidden layer\n",
    "    model.add(Dense(32, activation='relu'))  # Second hidden layer\n",
    "    model.add(Dense(1, activation='sigmoid'))  # Output layer for binary classification\n",
    "    model.compile(loss='binary_crossentropy', optimizer='adam', metrics=['accuracy'])\n",
    "    return model\n",
    "\n",
    "#  Train and evaluate the Neural Network\n",
    "nn_model = build_neural_network(X_train_scaled.shape[1])\n",
    "nn_model.fit(X_train_scaled, y_train, epochs=50, batch_size=32, verbose=0)\n",
    "\n",
    "# Evaluate the Neural Network\n",
    "nn_y_pred = (nn_model.predict(X_test_scaled) > 0.5).astype(\"int32\")  # Convert probabilities to binary\n",
    "print(\"Neural Network Results:\")\n",
    "print(\"Accuracy:\", accuracy_score(y_test, nn_y_pred))\n",
    "print(classification_report(y_test, nn_y_pred))"
   ]
  },
  {
   "cell_type": "markdown",
   "id": "89f6accf-66b4-4e09-8536-bc46d96fe3e4",
   "metadata": {},
   "source": [
    "## Model Selection and Saving"
   ]
  },
  {
   "cell_type": "code",
   "execution_count": 52,
   "id": "66a1cda4-b873-4df3-bba3-6e1bcd7b7a31",
   "metadata": {},
   "outputs": [
    {
     "name": "stdout",
     "output_type": "stream",
     "text": [
      "Model saved to best_model_random_forest.pkl\n",
      "Scaler saved to scaler.pkl\n"
     ]
    }
   ],
   "source": [
    "# the best model (Random Forest)\n",
    "best_model = random_forest_model  # this is the best based on evaluation\n",
    "\n",
    "# Save the selected model\n",
    "model_credit_score = 'best_model_random_forest.pkl'\n",
    "joblib.dump(best_model, model_credit_score)\n",
    "\n",
    "print(f\"Model saved to {model_credit_score}\")\n",
    "\n",
    "#Save the scaler\n",
    "scaler_credit_score = 'scaler.pkl'\n",
    "joblib.dump(scaler, scaler_credit_score)\n",
    "\n",
    "print(f\"Scaler saved to {scaler_credit_score}\")"
   ]
  },
  {
   "cell_type": "markdown",
   "id": "f12990af-cc9e-4295-9101-0f9126e72e4b",
   "metadata": {},
   "source": [
    "## Function to take input from user"
   ]
  },
  {
   "cell_type": "code",
   "execution_count": 60,
   "id": "866ac67e-f646-4318-811c-fc26a124c21b",
   "metadata": {},
   "outputs": [
    {
     "name": "stdout",
     "output_type": "stream",
     "text": [
      "Predicted Status: 1\n",
      "You are not creditworthy :  Score < 650\n"
     ]
    },
    {
     "name": "stderr",
     "output_type": "stream",
     "text": [
      "C:\\Users\\yapat\\AppData\\Local\\Programs\\Python\\Python312\\Lib\\site-packages\\sklearn\\base.py:493: UserWarning: X does not have valid feature names, but RandomForestClassifier was fitted with feature names\n",
      "  warnings.warn(\n"
     ]
    }
   ],
   "source": [
    "# Load the saved model and saved scaler\n",
    "loaded_model = joblib.load(model_credit_score)\n",
    "loaded_scaler = joblib.load(scaler_credit_score)\n",
    "\n",
    "# Function to predict loan status\n",
    "def predict_status(user_input):\n",
    "    # Convert user input to a DataFrame\n",
    "    input_df = pd.DataFrame([user_input])\n",
    "    \n",
    "    # Scale the input features using the loaded scaler\n",
    "    input_scaled = loaded_scaler.transform(input_df)  # Use the loaded scaler\n",
    "\n",
    "    # Predict the status\n",
    "    prediction = loaded_model.predict(input_scaled)\n",
    "    \n",
    "    return prediction[0]  # Return the predicted status\n",
    "\n",
    "# Example of user input\n",
    "user_input = {\n",
    "    'age': 21,\n",
    "    'income': 9900,\n",
    "    'emp_years': 2,\n",
    "    'grade': 0,  # Make sure this is correctly encoded (B = 1 if using label encoding)\n",
    "    'loan_amount': 2500,\n",
    "    'interest_rate': 7.14,\n",
    "    'percent_income': 0.25,\n",
    "    'credit_history': 2,\n",
    "    'home_ownership_OTHER': 0,\n",
    "    'home_ownership_OWN': 1,\n",
    "    'home_ownership_RENT': 0,\n",
    "    'loan_purpose_EDUCATION': 0,\n",
    "    'loan_purpose_HOMEIMPROVEMENT': 0,\n",
    "    'loan_purpose_MEDICAL': 0,\n",
    "    'loan_purpose_PERSONAL': 0,\n",
    "    'loan_purpose_VENTURE': 1,\n",
    "    'default_history_Y': 0,\n",
    "    'age_income_ratio': 0.00212121,  # Calculated as age/income\n",
    "    'loan_income_ratio': 0.252525  # Calculated as loan_amount/income\n",
    "}\n",
    "\n",
    "# Call the prediction function\n",
    "predicted_status = predict_status(user_input)\n",
    "print(\"Predicted Status:\", predicted_status)\n",
    "\n",
    "if predicted_status == 0:\n",
    "    print(\"You are creditworthy : \", \"Score > = 650\")\n",
    "else:\n",
    "    print(\"You are not creditworthy : \", \"Score < 650\")"
   ]
  },
  {
   "cell_type": "code",
   "execution_count": null,
   "id": "96cb79f5-ecc3-4f1c-946d-1104f39e39b0",
   "metadata": {},
   "outputs": [],
   "source": []
  }
 ],
 "metadata": {
  "kernelspec": {
   "display_name": "Python 3 (ipykernel)",
   "language": "python",
   "name": "python3"
  },
  "language_info": {
   "codemirror_mode": {
    "name": "ipython",
    "version": 3
   },
   "file_extension": ".py",
   "mimetype": "text/x-python",
   "name": "python",
   "nbconvert_exporter": "python",
   "pygments_lexer": "ipython3",
   "version": "3.12.3"
  }
 },
 "nbformat": 4,
 "nbformat_minor": 5
}
